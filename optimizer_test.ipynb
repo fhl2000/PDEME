{
 "cells": [
  {
   "cell_type": "code",
   "execution_count": 10,
   "metadata": {},
   "outputs": [],
   "source": [
    "import torch\n",
    "from torchvision.models import resnet18"
   ]
  },
  {
   "cell_type": "code",
   "execution_count": 12,
   "metadata": {},
   "outputs": [
    {
     "name": "stdout",
     "output_type": "stream",
     "text": [
      "11689512\n"
     ]
    }
   ],
   "source": [
    "model = resnet18()\n",
    "num_params = sum([param.numel() for param in model.parameters() if param.requires_grad])\n",
    "print(num_params)"
   ]
  },
  {
   "cell_type": "code",
   "execution_count": null,
   "metadata": {},
   "outputs": [],
   "source": [
    "model = resnet18()\n",
    "optimizer1 = torch.optim.SGD(model.parameters(),  lr=0.01)\n",
    "state_dict = optimizer1.state_dict()\n",
    "print(state_dict)\n",
    "optimizer2 = torch.optim.SGD([{'params': model.parameters(), 'initial_lr': 0.1}], lr=0.1)\n",
    "print(\"before:\", optimizer2.state_dict())\n",
    "optimizer2.load_state_dict(state_dict)\n",
    "print(\"after:\", optimizer2.state_dict())"
   ]
  },
  {
   "cell_type": "code",
   "execution_count": null,
   "metadata": {},
   "outputs": [],
   "source": [
    "model = resnet18()\n",
    "start_epoch = 0\n",
    "epochs = 30\n",
    "optimizer = torch.optim.SGD(model.parameters(),  lr=0.1)\n",
    "scheduler = torch.optim.lr_scheduler.MultiStepLR(optimizer, milestones=[5,20], gamma=0.1)\n",
    "# print(optimizer.state_dict())\n",
    "# print(scheduler.state_dict())\n",
    "\n",
    "for epoch in range(start_epoch, epochs):\n",
    "    state_dict = optimizer.state_dict()\n",
    "    print(epoch, optimizer.state_dict()['param_groups'][0]['lr'])\n",
    "    # update\n",
    "    optimizer.step()\n",
    "    scheduler.step()"
   ]
  },
  {
   "cell_type": "code",
   "execution_count": null,
   "metadata": {},
   "outputs": [],
   "source": [
    "model = resnet18()\n",
    "start_epoch = 4\n",
    "epochs = 30\n",
    "optimizer = torch.optim.SGD([{'params': model.parameters(), 'initial_lr': 0.1}], lr=0.1)\n",
    "scheduler = torch.optim.lr_scheduler.MultiStepLR(optimizer, milestones=[5,20], gamma=0.1, last_epoch=start_epoch-1)\n",
    "print(optimizer.state_dict())\n",
    "print(scheduler.state_dict())\n",
    "\n",
    "for epoch in range(start_epoch, epochs):\n",
    "    state_dict = optimizer.state_dict()\n",
    "    print(epoch, optimizer.state_dict()['param_groups'][0]['lr'])\n",
    "    # update\n",
    "    optimizer.step()\n",
    "    scheduler.step()"
   ]
  }
 ],
 "metadata": {
  "kernelspec": {
   "display_name": "mytorch",
   "language": "python",
   "name": "python3"
  },
  "language_info": {
   "codemirror_mode": {
    "name": "ipython",
    "version": 3
   },
   "file_extension": ".py",
   "mimetype": "text/x-python",
   "name": "python",
   "nbconvert_exporter": "python",
   "pygments_lexer": "ipython3",
   "version": "3.8.15"
  },
  "orig_nbformat": 4
 },
 "nbformat": 4,
 "nbformat_minor": 2
}
