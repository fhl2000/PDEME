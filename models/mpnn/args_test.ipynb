{
 "cells": [
  {
   "cell_type": "code",
   "execution_count": 1,
   "metadata": {},
   "outputs": [
    {
     "name": "stdout",
     "output_type": "stream",
     "text": [
      "{'pde_name': '1D_Advection', 'temporal_domain': '(0, 2)', 'resolution_t': 201, 'spatial_domain': '[(0, 1)]', 'resolution': [1024], 'variables': {'beta': 1.0}, 'if_training': True, 'continue_training': False, 'model_path': None, 'output_dir': './checkpoint/', 'save_period': 20, 'seed': 0, 'time_window': 10, 'neighbors': 6, 'unrolling': 1, 'epochs': 20, 'dataset': {'single_file': True, 'file_name': '1D_Advection_Sols_beta1.0.hdf5', 'saved_folder': '/data1/zhouziyang/datasets/pdebench/1D/Advection/Train/', 'reduced_resolution': 4, 'reduced_resolution_t': 5, 'reduced_batch': 1, 'test_ratio': 0.1}, 'dataloader': {'batch_size': 16, 'num_workers': 2, 'pin_memory': True}, 'model_name': 'MPN', 'model': {'hidden_features': 128, 'hidden_layer': 6}, 'optimizer': {'name': 'AdamW', 'lr': 0.0001}, 'scheduler': {'name': 'MultiStepLR', 'milestones': [1, 5, 10, 15], 'gamma': 0.4}}\n"
     ]
    }
   ],
   "source": [
    "import yaml\n",
    "\n",
    "with open(\"./configs/config_Adv.yaml\", 'r') as f:\n",
    "    args = yaml.safe_load(f)\n",
    "print(args)"
   ]
  },
  {
   "cell_type": "code",
   "execution_count": 2,
   "metadata": {},
   "outputs": [
    {
     "name": "stdout",
     "output_type": "stream",
     "text": [
      "0 1\n"
     ]
    }
   ],
   "source": [
    "from utils import PDE\n",
    "\n",
    "pde = PDE(args[\"pde_name\"], variables=args[\"variables\"],\n",
    "        temporal_domain=eval(args[\"temporal_domain\"]), \n",
    "        resolution_t=args[\"resolution_t\"],\n",
    "        spatial_domain=eval(args[\"spatial_domain\"]), \n",
    "        resolution=args[\"resolution\"],\n",
    "        reduced_resolution_t=args[\"dataset\"][\"reduced_resolution_t\"], \n",
    "        reduced_resolution=args[\"dataset\"][\"reduced_resolution\"]\n",
    "        )\n",
    "\n",
    "for low, up in pde.spatial_domain:\n",
    "    print(low, up)"
   ]
  }
 ],
 "metadata": {
  "kernelspec": {
   "display_name": "mytorch",
   "language": "python",
   "name": "python3"
  },
  "language_info": {
   "codemirror_mode": {
    "name": "ipython",
    "version": 3
   },
   "file_extension": ".py",
   "mimetype": "text/x-python",
   "name": "python",
   "nbconvert_exporter": "python",
   "pygments_lexer": "ipython3",
   "version": "3.8.15"
  },
  "orig_nbformat": 4
 },
 "nbformat": 4,
 "nbformat_minor": 2
}
