{
 "cells": [
  {
   "cell_type": "code",
   "execution_count": 1,
   "metadata": {},
   "outputs": [],
   "source": [
    "import random\n",
    "from utils import MPNDatasetSingle, PDE, GraphCreator\n",
    "from torch.utils.data import DataLoader"
   ]
  },
  {
   "cell_type": "code",
   "execution_count": 2,
   "metadata": {},
   "outputs": [],
   "source": [
    "file_name = \"1D_Advection_Sols_beta1.0.hdf5\"\n",
    "saved_folder = \"/data1/zhouziyang/datasets/pdebench/1D/Advection/Train/\"\n",
    "variables = {\"beta\": 1.}\n",
    "batch_size = 1"
   ]
  },
  {
   "cell_type": "code",
   "execution_count": 3,
   "metadata": {},
   "outputs": [
    {
     "name": "stdout",
     "output_type": "stream",
     "text": [
      "nt: 201 nx: 256\n"
     ]
    }
   ],
   "source": [
    "pde = PDE(\"1D_Advection\", temporal_domain=(0, 2), resolution_t=201, \n",
    "          spatial_domain=[(0, 1)], resolution=[1024], variables=variables,\n",
    "          reduced_resolution=4)\n",
    "graph_creator = GraphCreator(pde=pde, neighbors=3, time_window=25)"
   ]
  },
  {
   "cell_type": "code",
   "execution_count": 4,
   "metadata": {},
   "outputs": [],
   "source": [
    "dataset = MPNDatasetSingle(file_name, saved_folder, reduced_resolution=4, variables=variables)\n",
    "dataloader = DataLoader(dataset, batch_size=batch_size, shuffle=False)"
   ]
  },
  {
   "cell_type": "code",
   "execution_count": 5,
   "metadata": {},
   "outputs": [
    {
     "name": "stdout",
     "output_type": "stream",
     "text": [
      "torch.float32 torch.float32\n",
      "{'beta': tensor([1.], dtype=torch.float64)}\n"
     ]
    }
   ],
   "source": [
    "u, x, variables = next(iter(dataloader))\n",
    "print(u.dtype, x.dtype)\n",
    "print(variables) # ps: different type!"
   ]
  },
  {
   "cell_type": "code",
   "execution_count": 6,
   "metadata": {},
   "outputs": [
    {
     "name": "stdout",
     "output_type": "stream",
     "text": [
      "random_steps: [45]\n"
     ]
    }
   ],
   "source": [
    "unrolled_graphs = 1\n",
    "steps = [t for t in range(graph_creator.tw, # 250 - 25 - (25 * unrolled_graphs) + 1\n",
    "    graph_creator.nt - graph_creator.tw - (graph_creator.tw * unrolled_graphs) + 1)]\n",
    "random_steps = random.choices(steps, k=batch_size)\n",
    "print(\"random_steps:\", random_steps)"
   ]
  },
  {
   "cell_type": "code",
   "execution_count": 7,
   "metadata": {},
   "outputs": [
    {
     "name": "stdout",
     "output_type": "stream",
     "text": [
      "data: torch.Size([1, 25, 256])\n",
      "labels: torch.Size([1, 25, 256])\n"
     ]
    }
   ],
   "source": [
    "# create data\n",
    "data, labels = graph_creator.create_data(u, random_steps)    \n",
    "print(\"data:\", data.shape) # data: (bs, tw, nx)\n",
    "print(\"labels:\", labels.shape) # label: (bs, tw, nx)"
   ]
  },
  {
   "cell_type": "code",
   "execution_count": 8,
   "metadata": {},
   "outputs": [],
   "source": [
    "# create graph\n",
    "graph = graph_creator.create_graph(data, labels, x, variables, random_steps)"
   ]
  },
  {
   "cell_type": "code",
   "execution_count": 9,
   "metadata": {},
   "outputs": [
    {
     "name": "stdout",
     "output_type": "stream",
     "text": [
      "pred: torch.Size([256, 25])\n"
     ]
    }
   ],
   "source": [
    "# TODO convert variables type to float32\n",
    "\n",
    "from mpnn import MPNN\n",
    "\n",
    "model = MPNN(pde, eq_variables=variables)\n",
    "pred = model(graph)\n",
    "print(\"pred:\", pred.shape)"
   ]
  },
  {
   "cell_type": "code",
   "execution_count": 10,
   "metadata": {},
   "outputs": [
    {
     "name": "stderr",
     "output_type": "stream",
     "text": [
      "/home/zhouziyang/anaconda3/envs/mytorch/lib/python3.8/site-packages/torch/nn/_reduction.py:42: UserWarning: size_average and reduce args will be deprecated, please use reduction='mean' instead.\n",
      "  warnings.warn(warning.format(ret))\n"
     ]
    }
   ],
   "source": [
    "import torch\n",
    "loss_fn = torch.nn.MSELoss(reduce=\"mean\")\n",
    "loss = loss_fn(pred, graph.y)"
   ]
  },
  {
   "cell_type": "code",
   "execution_count": 11,
   "metadata": {},
   "outputs": [],
   "source": [
    "graph = graph_creator.create_next_graph(graph, pred, labels, random_steps)"
   ]
  },
  {
   "cell_type": "code",
   "execution_count": 12,
   "metadata": {},
   "outputs": [
    {
     "name": "stdout",
     "output_type": "stream",
     "text": [
      "torch.Size([256, 25])\n",
      "torch.Size([1, 256, 25, 1])\n"
     ]
    }
   ],
   "source": [
    "from utils import to_PDEBench_format\n",
    "\n",
    "print(graph.x.shape)\n",
    "output = to_PDEBench_format(graph.x, batch_size, pde)\n",
    "print(output.shape)"
   ]
  }
 ],
 "metadata": {
  "kernelspec": {
   "display_name": "mytorch",
   "language": "python",
   "name": "python3"
  },
  "language_info": {
   "codemirror_mode": {
    "name": "ipython",
    "version": 3
   },
   "file_extension": ".py",
   "mimetype": "text/x-python",
   "name": "python",
   "nbconvert_exporter": "python",
   "pygments_lexer": "ipython3",
   "version": "3.8.15"
  },
  "orig_nbformat": 4
 },
 "nbformat": 4,
 "nbformat_minor": 2
}
