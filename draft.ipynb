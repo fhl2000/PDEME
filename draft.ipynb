{
 "cells": [
  {
   "cell_type": "code",
   "execution_count": 1,
   "metadata": {},
   "outputs": [],
   "source": [
    "import h5py\n",
    "import numpy as np\n",
    "import torch"
   ]
  },
  {
   "cell_type": "code",
   "execution_count": 2,
   "metadata": {},
   "outputs": [
    {
     "name": "stdout",
     "output_type": "stream",
     "text": [
      "tensor([0.1000, 0.2000]) torch.Size([2])\n"
     ]
    }
   ],
   "source": [
    "b = {\"var1\": torch.tensor([0.1, 0.2])}\n",
    "batch = torch.tensor([0, 1])\n",
    "for k in b:\n",
    "    a = torch.Tensor()\n",
    "    for i in batch.long():\n",
    "        a = torch.cat((a, torch.tensor([b[k][i]])))\n",
    "    print(a, a.shape)"
   ]
  },
  {
   "cell_type": "code",
   "execution_count": 2,
   "metadata": {},
   "outputs": [
    {
     "name": "stdout",
     "output_type": "stream",
     "text": [
      "[[1 2 3]\n",
      " [1 2 3]\n",
      " [1 2 3]] [1 2 3 1 2 3 1 2 3]\n",
      "[[4 4 4]\n",
      " [5 5 5]\n",
      " [6 6 6]] [4 4 4 5 5 5 6 6 6]\n"
     ]
    }
   ],
   "source": [
    "x = [1, 2, 3]\n",
    "y = [4, 5, 6]\n",
    "X, Y = np.meshgrid(x, y)\n",
    "print(X, X.ravel())\n",
    "print(Y, Y.ravel())"
   ]
  },
  {
   "cell_type": "code",
   "execution_count": 3,
   "metadata": {},
   "outputs": [
    {
     "name": "stdout",
     "output_type": "stream",
     "text": [
      "[[1 4]\n",
      " [2 4]\n",
      " [3 4]\n",
      " [1 5]\n",
      " [2 5]\n",
      " [3 5]\n",
      " [1 6]\n",
      " [2 6]\n",
      " [3 6]]\n"
     ]
    }
   ],
   "source": [
    "X = X.ravel()\n",
    "Y = Y.ravel()\n",
    "coordinates = np.concatenate((X[..., None], Y[..., None]), axis=-1)\n",
    "print(coordinates)"
   ]
  }
 ],
 "metadata": {
  "kernelspec": {
   "display_name": "mytorch",
   "language": "python",
   "name": "python3"
  },
  "language_info": {
   "codemirror_mode": {
    "name": "ipython",
    "version": 3
   },
   "file_extension": ".py",
   "mimetype": "text/x-python",
   "name": "python",
   "nbconvert_exporter": "python",
   "pygments_lexer": "ipython3",
   "version": "3.8.15"
  },
  "orig_nbformat": 4
 },
 "nbformat": 4,
 "nbformat_minor": 2
}
